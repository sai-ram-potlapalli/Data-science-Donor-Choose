{
 "cells": [
  {
   "cell_type": "code",
   "execution_count": 16,
   "id": "efb28c96",
   "metadata": {},
   "outputs": [],
   "source": [
    "import pandas as pd\n",
    "import numpy as np\n",
    "import matplotlib.pyplot as plt\n",
    "import seaborn as sns\n",
    "import plotly.express as px\n",
    "import plotly.graph_objects as go\n",
    "from plotly.subplots import make_subplots\n",
    "import warnings\n",
    "warnings.filterwarnings('ignore')\n",
    "\n",
    "plt.style.use('seaborn-v0_8')\n",
    "sns.set_palette(\"husl\")\n"
   ]
  },
  {
   "cell_type": "code",
   "execution_count": 17,
   "id": "424f05a9",
   "metadata": {},
   "outputs": [
    {
     "name": "stdout",
     "output_type": "stream",
     "text": [
      "Approval rate: 84.86%\n"
     ]
    }
   ],
   "source": [
    "df = pd.read_csv(\"train_data.csv\")\n",
    "print(f\"Approval rate: {df['project_is_approved'].mean():.2%}\")"
   ]
  },
  {
   "cell_type": "code",
   "execution_count": 18,
   "id": "dd79d5f4",
   "metadata": {},
   "outputs": [],
   "source": [
    "state_stats = df.groupby('school_state').agg({\n",
    "    'project_is_approved': ['count', 'mean', 'sum']\n",
    "}).round(3)\n",
    "\n",
    "state_stats.columns = ['Total_Projects', 'Approval_Rate', 'Approved_Count']\n",
    "state_stats['Rejected_Count'] = state_stats['Total_Projects'] - state_stats['Approved_Count']\n",
    "\n",
    "min_projects = max(50, len(df) * 0.005)  # At least 0.5% of total or 50 projects\n",
    "significant_states = state_stats[state_stats['Total_Projects'] >= min_projects]\n",
    "significant_states = significant_states.sort_values('Approval_Rate', ascending=False)\n",
    "\n",
    "large_figsize = (8,6)\n"
   ]
  },
  {
   "cell_type": "code",
   "execution_count": 19,
   "id": "3ed6abe9",
   "metadata": {},
   "outputs": [
    {
     "data": {
      "application/vnd.plotly.v1+json": {
       "config": {
        "plotlyServerURL": "https://plot.ly"
       },
       "data": [
        {
         "coloraxis": "coloraxis",
         "customdata": [
          [
           "WA",
           0.876,
           2334,
           2045,
           289
          ],
          [
           "OH",
           0.875,
           2467,
           2159,
           308
          ],
          [
           "CT",
           0.869,
           1663,
           1445,
           218
          ],
          [
           "KY",
           0.863,
           1304,
           1126,
           178
          ],
          [
           "SC",
           0.86,
           3936,
           3385,
           551
          ],
          [
           "NY",
           0.86,
           7318,
           6291,
           1027
          ],
          [
           "NM",
           0.86,
           557,
           479,
           78
          ],
          [
           "MA",
           0.86,
           2389,
           2055,
           334
          ],
          [
           "MN",
           0.858,
           1208,
           1036,
           172
          ],
          [
           "CA",
           0.858,
           15388,
           13205,
           2183
          ],
          [
           "PA",
           0.855,
           3109,
           2658,
           451
          ],
          [
           "NC",
           0.855,
           5091,
           4353,
           738
          ],
          [
           "MO",
           0.855,
           2576,
           2202,
           374
          ],
          [
           "AL",
           0.855,
           1762,
           1506,
           256
          ],
          [
           "NV",
           0.854,
           1367,
           1167,
           200
          ],
          [
           "IA",
           0.853,
           666,
           568,
           98
          ],
          [
           "IL",
           0.853,
           4350,
           3710,
           640
          ],
          [
           "VA",
           0.85,
           2045,
           1739,
           306
          ],
          [
           "TN",
           0.85,
           1688,
           1435,
           253
          ],
          [
           "OR",
           0.85,
           1242,
           1056,
           186
          ],
          [
           "WI",
           0.846,
           1827,
           1545,
           282
          ],
          [
           "MS",
           0.845,
           1323,
           1118,
           205
          ],
          [
           "IN",
           0.845,
           2620,
           2214,
           406
          ],
          [
           "MI",
           0.845,
           3161,
           2672,
           489
          ],
          [
           "NJ",
           0.844,
           2237,
           1888,
           349
          ],
          [
           "CO",
           0.842,
           1111,
           935,
           176
          ],
          [
           "GA",
           0.84,
           3963,
           3329,
           634
          ],
          [
           "KS",
           0.839,
           634,
           532,
           102
          ],
          [
           "MD",
           0.839,
           1514,
           1270,
           244
          ],
          [
           "AZ",
           0.838,
           2147,
           1800,
           347
          ],
          [
           "UT",
           0.837,
           1731,
           1448,
           283
          ],
          [
           "ID",
           0.835,
           693,
           579,
           114
          ],
          [
           "OK",
           0.835,
           2276,
           1900,
           376
          ],
          [
           "FL",
           0.832,
           6185,
           5144,
           1041
          ],
          [
           "AR",
           0.831,
           1049,
           872,
           177
          ],
          [
           "LA",
           0.831,
           2394,
           1990,
           404
          ],
          [
           "TX",
           0.813,
           7396,
           6014,
           1382
          ]
         ],
         "geo": "geo",
         "hovertemplate": "State=%{customdata[0]}<br>Approval_Rate=%{z:.2%}<br>Total_Projects=%{customdata[2]}<br>Approved_Count=%{customdata[3]}<br>Rejected_Count=%{customdata[4]}<extra></extra>",
         "locationmode": "USA-states",
         "locations": [
          "WA",
          "OH",
          "CT",
          "KY",
          "SC",
          "NY",
          "NM",
          "MA",
          "MN",
          "CA",
          "PA",
          "NC",
          "MO",
          "AL",
          "NV",
          "IA",
          "IL",
          "VA",
          "TN",
          "OR",
          "WI",
          "MS",
          "IN",
          "MI",
          "NJ",
          "CO",
          "GA",
          "KS",
          "MD",
          "AZ",
          "UT",
          "ID",
          "OK",
          "FL",
          "AR",
          "LA",
          "TX"
         ],
         "name": "",
         "type": "choropleth",
         "z": {
          "bdata": "1XjpJjEI7D8AAAAAAADsPwIrhxbZzus/BFYOLbKd6z+F61G4HoXrP4XrUbgehes/hetRuB6F6z+F61G4HoXrP9v5fmq8dOs/2/l+arx06z9cj8L1KFzrP1yPwvUoXOs/XI/C9Shc6z9cj8L1KFzrP4cW2c73U+s/sp3vp8ZL6z+yne+nxkvrPzMzMzMzM+s/MzMzMzMz6z8zMzMzMzPrP99PjZduEus/CtejcD0K6z8K16NwPQrrPwrXo3A9Cus/NV66SQwC6z+LbOf7qfHqP+F6FK5H4eo/DAIrhxbZ6j8MAiuHFtnqPzeJQWDl0Oo/YhBYObTI6j+4HoXrUbjqP7gehetRuOo/ObTIdr6f6j9kO99PjZfqP2Q730+Nl+o/arx0kxgE6j8=",
          "dtype": "f8"
         }
        }
       ],
       "layout": {
        "coloraxis": {
         "colorbar": {
          "title": {
           "text": "Approval_Rate"
          }
         },
         "colorscale": [
          [
           0,
           "rgb(165,0,38)"
          ],
          [
           0.1,
           "rgb(215,48,39)"
          ],
          [
           0.2,
           "rgb(244,109,67)"
          ],
          [
           0.3,
           "rgb(253,174,97)"
          ],
          [
           0.4,
           "rgb(254,224,139)"
          ],
          [
           0.5,
           "rgb(255,255,191)"
          ],
          [
           0.6,
           "rgb(217,239,139)"
          ],
          [
           0.7,
           "rgb(166,217,106)"
          ],
          [
           0.8,
           "rgb(102,189,99)"
          ],
          [
           0.9,
           "rgb(26,152,80)"
          ],
          [
           1,
           "rgb(0,104,55)"
          ]
         ]
        },
        "geo": {
         "center": {},
         "domain": {
          "x": [
           0,
           1
          ],
          "y": [
           0,
           1
          ]
         },
         "lakecolor": "lightblue",
         "scope": "usa",
         "showlakes": true
        },
        "legend": {
         "tracegroupgap": 0
        },
        "margin": {
         "b": 20,
         "l": 20,
         "r": 20,
         "t": 50
        },
        "template": {
         "data": {
          "bar": [
           {
            "error_x": {
             "color": "#2a3f5f"
            },
            "error_y": {
             "color": "#2a3f5f"
            },
            "marker": {
             "line": {
              "color": "#E5ECF6",
              "width": 0.5
             },
             "pattern": {
              "fillmode": "overlay",
              "size": 10,
              "solidity": 0.2
             }
            },
            "type": "bar"
           }
          ],
          "barpolar": [
           {
            "marker": {
             "line": {
              "color": "#E5ECF6",
              "width": 0.5
             },
             "pattern": {
              "fillmode": "overlay",
              "size": 10,
              "solidity": 0.2
             }
            },
            "type": "barpolar"
           }
          ],
          "carpet": [
           {
            "aaxis": {
             "endlinecolor": "#2a3f5f",
             "gridcolor": "white",
             "linecolor": "white",
             "minorgridcolor": "white",
             "startlinecolor": "#2a3f5f"
            },
            "baxis": {
             "endlinecolor": "#2a3f5f",
             "gridcolor": "white",
             "linecolor": "white",
             "minorgridcolor": "white",
             "startlinecolor": "#2a3f5f"
            },
            "type": "carpet"
           }
          ],
          "choropleth": [
           {
            "colorbar": {
             "outlinewidth": 0,
             "ticks": ""
            },
            "type": "choropleth"
           }
          ],
          "contour": [
           {
            "colorbar": {
             "outlinewidth": 0,
             "ticks": ""
            },
            "colorscale": [
             [
              0,
              "#0d0887"
             ],
             [
              0.1111111111111111,
              "#46039f"
             ],
             [
              0.2222222222222222,
              "#7201a8"
             ],
             [
              0.3333333333333333,
              "#9c179e"
             ],
             [
              0.4444444444444444,
              "#bd3786"
             ],
             [
              0.5555555555555556,
              "#d8576b"
             ],
             [
              0.6666666666666666,
              "#ed7953"
             ],
             [
              0.7777777777777778,
              "#fb9f3a"
             ],
             [
              0.8888888888888888,
              "#fdca26"
             ],
             [
              1,
              "#f0f921"
             ]
            ],
            "type": "contour"
           }
          ],
          "contourcarpet": [
           {
            "colorbar": {
             "outlinewidth": 0,
             "ticks": ""
            },
            "type": "contourcarpet"
           }
          ],
          "heatmap": [
           {
            "colorbar": {
             "outlinewidth": 0,
             "ticks": ""
            },
            "colorscale": [
             [
              0,
              "#0d0887"
             ],
             [
              0.1111111111111111,
              "#46039f"
             ],
             [
              0.2222222222222222,
              "#7201a8"
             ],
             [
              0.3333333333333333,
              "#9c179e"
             ],
             [
              0.4444444444444444,
              "#bd3786"
             ],
             [
              0.5555555555555556,
              "#d8576b"
             ],
             [
              0.6666666666666666,
              "#ed7953"
             ],
             [
              0.7777777777777778,
              "#fb9f3a"
             ],
             [
              0.8888888888888888,
              "#fdca26"
             ],
             [
              1,
              "#f0f921"
             ]
            ],
            "type": "heatmap"
           }
          ],
          "histogram": [
           {
            "marker": {
             "pattern": {
              "fillmode": "overlay",
              "size": 10,
              "solidity": 0.2
             }
            },
            "type": "histogram"
           }
          ],
          "histogram2d": [
           {
            "colorbar": {
             "outlinewidth": 0,
             "ticks": ""
            },
            "colorscale": [
             [
              0,
              "#0d0887"
             ],
             [
              0.1111111111111111,
              "#46039f"
             ],
             [
              0.2222222222222222,
              "#7201a8"
             ],
             [
              0.3333333333333333,
              "#9c179e"
             ],
             [
              0.4444444444444444,
              "#bd3786"
             ],
             [
              0.5555555555555556,
              "#d8576b"
             ],
             [
              0.6666666666666666,
              "#ed7953"
             ],
             [
              0.7777777777777778,
              "#fb9f3a"
             ],
             [
              0.8888888888888888,
              "#fdca26"
             ],
             [
              1,
              "#f0f921"
             ]
            ],
            "type": "histogram2d"
           }
          ],
          "histogram2dcontour": [
           {
            "colorbar": {
             "outlinewidth": 0,
             "ticks": ""
            },
            "colorscale": [
             [
              0,
              "#0d0887"
             ],
             [
              0.1111111111111111,
              "#46039f"
             ],
             [
              0.2222222222222222,
              "#7201a8"
             ],
             [
              0.3333333333333333,
              "#9c179e"
             ],
             [
              0.4444444444444444,
              "#bd3786"
             ],
             [
              0.5555555555555556,
              "#d8576b"
             ],
             [
              0.6666666666666666,
              "#ed7953"
             ],
             [
              0.7777777777777778,
              "#fb9f3a"
             ],
             [
              0.8888888888888888,
              "#fdca26"
             ],
             [
              1,
              "#f0f921"
             ]
            ],
            "type": "histogram2dcontour"
           }
          ],
          "mesh3d": [
           {
            "colorbar": {
             "outlinewidth": 0,
             "ticks": ""
            },
            "type": "mesh3d"
           }
          ],
          "parcoords": [
           {
            "line": {
             "colorbar": {
              "outlinewidth": 0,
              "ticks": ""
             }
            },
            "type": "parcoords"
           }
          ],
          "pie": [
           {
            "automargin": true,
            "type": "pie"
           }
          ],
          "scatter": [
           {
            "fillpattern": {
             "fillmode": "overlay",
             "size": 10,
             "solidity": 0.2
            },
            "type": "scatter"
           }
          ],
          "scatter3d": [
           {
            "line": {
             "colorbar": {
              "outlinewidth": 0,
              "ticks": ""
             }
            },
            "marker": {
             "colorbar": {
              "outlinewidth": 0,
              "ticks": ""
             }
            },
            "type": "scatter3d"
           }
          ],
          "scattercarpet": [
           {
            "marker": {
             "colorbar": {
              "outlinewidth": 0,
              "ticks": ""
             }
            },
            "type": "scattercarpet"
           }
          ],
          "scattergeo": [
           {
            "marker": {
             "colorbar": {
              "outlinewidth": 0,
              "ticks": ""
             }
            },
            "type": "scattergeo"
           }
          ],
          "scattergl": [
           {
            "marker": {
             "colorbar": {
              "outlinewidth": 0,
              "ticks": ""
             }
            },
            "type": "scattergl"
           }
          ],
          "scattermap": [
           {
            "marker": {
             "colorbar": {
              "outlinewidth": 0,
              "ticks": ""
             }
            },
            "type": "scattermap"
           }
          ],
          "scattermapbox": [
           {
            "marker": {
             "colorbar": {
              "outlinewidth": 0,
              "ticks": ""
             }
            },
            "type": "scattermapbox"
           }
          ],
          "scatterpolar": [
           {
            "marker": {
             "colorbar": {
              "outlinewidth": 0,
              "ticks": ""
             }
            },
            "type": "scatterpolar"
           }
          ],
          "scatterpolargl": [
           {
            "marker": {
             "colorbar": {
              "outlinewidth": 0,
              "ticks": ""
             }
            },
            "type": "scatterpolargl"
           }
          ],
          "scatterternary": [
           {
            "marker": {
             "colorbar": {
              "outlinewidth": 0,
              "ticks": ""
             }
            },
            "type": "scatterternary"
           }
          ],
          "surface": [
           {
            "colorbar": {
             "outlinewidth": 0,
             "ticks": ""
            },
            "colorscale": [
             [
              0,
              "#0d0887"
             ],
             [
              0.1111111111111111,
              "#46039f"
             ],
             [
              0.2222222222222222,
              "#7201a8"
             ],
             [
              0.3333333333333333,
              "#9c179e"
             ],
             [
              0.4444444444444444,
              "#bd3786"
             ],
             [
              0.5555555555555556,
              "#d8576b"
             ],
             [
              0.6666666666666666,
              "#ed7953"
             ],
             [
              0.7777777777777778,
              "#fb9f3a"
             ],
             [
              0.8888888888888888,
              "#fdca26"
             ],
             [
              1,
              "#f0f921"
             ]
            ],
            "type": "surface"
           }
          ],
          "table": [
           {
            "cells": {
             "fill": {
              "color": "#EBF0F8"
             },
             "line": {
              "color": "white"
             }
            },
            "header": {
             "fill": {
              "color": "#C8D4E3"
             },
             "line": {
              "color": "white"
             }
            },
            "type": "table"
           }
          ]
         },
         "layout": {
          "annotationdefaults": {
           "arrowcolor": "#2a3f5f",
           "arrowhead": 0,
           "arrowwidth": 1
          },
          "autotypenumbers": "strict",
          "coloraxis": {
           "colorbar": {
            "outlinewidth": 0,
            "ticks": ""
           }
          },
          "colorscale": {
           "diverging": [
            [
             0,
             "#8e0152"
            ],
            [
             0.1,
             "#c51b7d"
            ],
            [
             0.2,
             "#de77ae"
            ],
            [
             0.3,
             "#f1b6da"
            ],
            [
             0.4,
             "#fde0ef"
            ],
            [
             0.5,
             "#f7f7f7"
            ],
            [
             0.6,
             "#e6f5d0"
            ],
            [
             0.7,
             "#b8e186"
            ],
            [
             0.8,
             "#7fbc41"
            ],
            [
             0.9,
             "#4d9221"
            ],
            [
             1,
             "#276419"
            ]
           ],
           "sequential": [
            [
             0,
             "#0d0887"
            ],
            [
             0.1111111111111111,
             "#46039f"
            ],
            [
             0.2222222222222222,
             "#7201a8"
            ],
            [
             0.3333333333333333,
             "#9c179e"
            ],
            [
             0.4444444444444444,
             "#bd3786"
            ],
            [
             0.5555555555555556,
             "#d8576b"
            ],
            [
             0.6666666666666666,
             "#ed7953"
            ],
            [
             0.7777777777777778,
             "#fb9f3a"
            ],
            [
             0.8888888888888888,
             "#fdca26"
            ],
            [
             1,
             "#f0f921"
            ]
           ],
           "sequentialminus": [
            [
             0,
             "#0d0887"
            ],
            [
             0.1111111111111111,
             "#46039f"
            ],
            [
             0.2222222222222222,
             "#7201a8"
            ],
            [
             0.3333333333333333,
             "#9c179e"
            ],
            [
             0.4444444444444444,
             "#bd3786"
            ],
            [
             0.5555555555555556,
             "#d8576b"
            ],
            [
             0.6666666666666666,
             "#ed7953"
            ],
            [
             0.7777777777777778,
             "#fb9f3a"
            ],
            [
             0.8888888888888888,
             "#fdca26"
            ],
            [
             1,
             "#f0f921"
            ]
           ]
          },
          "colorway": [
           "#636efa",
           "#EF553B",
           "#00cc96",
           "#ab63fa",
           "#FFA15A",
           "#19d3f3",
           "#FF6692",
           "#B6E880",
           "#FF97FF",
           "#FECB52"
          ],
          "font": {
           "color": "#2a3f5f"
          },
          "geo": {
           "bgcolor": "white",
           "lakecolor": "white",
           "landcolor": "#E5ECF6",
           "showlakes": true,
           "showland": true,
           "subunitcolor": "white"
          },
          "hoverlabel": {
           "align": "left"
          },
          "hovermode": "closest",
          "mapbox": {
           "style": "light"
          },
          "paper_bgcolor": "white",
          "plot_bgcolor": "#E5ECF6",
          "polar": {
           "angularaxis": {
            "gridcolor": "white",
            "linecolor": "white",
            "ticks": ""
           },
           "bgcolor": "#E5ECF6",
           "radialaxis": {
            "gridcolor": "white",
            "linecolor": "white",
            "ticks": ""
           }
          },
          "scene": {
           "xaxis": {
            "backgroundcolor": "#E5ECF6",
            "gridcolor": "white",
            "gridwidth": 2,
            "linecolor": "white",
            "showbackground": true,
            "ticks": "",
            "zerolinecolor": "white"
           },
           "yaxis": {
            "backgroundcolor": "#E5ECF6",
            "gridcolor": "white",
            "gridwidth": 2,
            "linecolor": "white",
            "showbackground": true,
            "ticks": "",
            "zerolinecolor": "white"
           },
           "zaxis": {
            "backgroundcolor": "#E5ECF6",
            "gridcolor": "white",
            "gridwidth": 2,
            "linecolor": "white",
            "showbackground": true,
            "ticks": "",
            "zerolinecolor": "white"
           }
          },
          "shapedefaults": {
           "line": {
            "color": "#2a3f5f"
           }
          },
          "ternary": {
           "aaxis": {
            "gridcolor": "white",
            "linecolor": "white",
            "ticks": ""
           },
           "baxis": {
            "gridcolor": "white",
            "linecolor": "white",
            "ticks": ""
           },
           "bgcolor": "#E5ECF6",
           "caxis": {
            "gridcolor": "white",
            "linecolor": "white",
            "ticks": ""
           }
          },
          "title": {
           "x": 0.05
          },
          "xaxis": {
           "automargin": true,
           "gridcolor": "white",
           "linecolor": "white",
           "ticks": "",
           "title": {
            "standoff": 15
           },
           "zerolinecolor": "white",
           "zerolinewidth": 2
          },
          "yaxis": {
           "automargin": true,
           "gridcolor": "white",
           "linecolor": "white",
           "ticks": "",
           "title": {
            "standoff": 15
           },
           "zerolinecolor": "white",
           "zerolinewidth": 2
          }
         }
        },
        "title": {
         "font": {
          "color": "black",
          "family": "Arial",
          "size": 20
         },
         "text": "U.S. Map: Project Approval Rates by State"
        }
       }
      }
     },
     "metadata": {},
     "output_type": "display_data"
    }
   ],
   "source": [
    "state_approval_data = significant_states.reset_index().copy()\n",
    "state_approval_data.rename(columns={'school_state': 'State'}, inplace=True)\n",
    "\n",
    "fig = px.choropleth(\n",
    "    state_approval_data,\n",
    "    locations='State',\n",
    "    locationmode=\"USA-states\",\n",
    "    color='Approval_Rate',\n",
    "    color_continuous_scale='RdYlGn',  # Red = low, Green = high\n",
    "    scope=\"usa\",\n",
    "    title=\"U.S. Map: Project Approval Rates by State\",\n",
    "    hover_data={\n",
    "        'State': True,\n",
    "        'Approval_Rate': ':.2%',\n",
    "        'Total_Projects': True,\n",
    "        'Approved_Count': True,\n",
    "        'Rejected_Count': True\n",
    "    }\n",
    ")\n",
    "\n",
    "fig.update_layout(\n",
    "    geo=dict(showlakes=True, lakecolor='lightblue'),\n",
    "    title_font=dict(size=20, family='Arial', color='black'),\n",
    "    margin=dict(l=20, r=20, t=50, b=20)\n",
    ")\n",
    "\n",
    "fig.show()\n"
   ]
  },
  {
   "cell_type": "code",
   "execution_count": 20,
   "id": "ede96f80",
   "metadata": {},
   "outputs": [
    {
     "data": {
      "image/png": "[encoded data removed]",
      "text/plain": [
       "<Figure size 800x550 with 1 Axes>"
      ]
     },
     "metadata": {},
     "output_type": "display_data"
    }
   ],
   "source": [
    "# 1.Top 20 States by Approval Rate\n",
    "top_20 = significant_states.head(20)\n",
    "plt.barh(top_20.index, top_20['Approval_Rate'], color='green', alpha=0.7, height=0.6)\n",
    "plt.title('Top 20 States by Approval Rate', fontsize=16, fontweight='bold')\n",
    "plt.xlabel('Approval Rate')\n",
    "for i, (state, data) in enumerate(top_20.iterrows()):\n",
    "    plt.text(data['Approval_Rate'] + 0.01, i, \n",
    "             f'{data[\"Approval_Rate\"]:.2f}\\n({int(data[\"Total_Projects\"])})', \n",
    "             va='center', fontweight='bold', fontsize=8)\n",
    "plt.xlim(0, 1)\n",
    "plt.tight_layout()\n",
    "plt.show()"
   ]
  },
  {
   "cell_type": "code",
   "execution_count": 21,
   "id": "e0fc2605",
   "metadata": {},
   "outputs": [
    {
     "data": {
      "image/png": "[encoded data removed]",
      "text/plain": [
       "<Figure size 800x600 with 1 Axes>"
      ]
     },
     "metadata": {},
     "output_type": "display_data"
    }
   ],
   "source": [
    "# 2. Bottom 20 States by Approval Rate\n",
    "plt.figure(figsize=large_figsize)\n",
    "bottom_20 = significant_states.tail(20)\n",
    "plt.barh(bottom_20.index, bottom_20['Approval_Rate'], color='red', alpha=0.7, height=0.6)\n",
    "plt.title('Bottom 20 States by Approval Rate', fontsize=16, fontweight='bold')\n",
    "plt.xlabel('Approval Rate')\n",
    "for i, (state, data) in enumerate(bottom_20.iterrows()):\n",
    "    plt.text(data['Approval_Rate'] + 0.01, i, \n",
    "             f'{data[\"Approval_Rate\"]:.2f}\\n({int(data[\"Total_Projects\"])})', \n",
    "             va='center', fontweight='bold', fontsize=8)\n",
    "plt.xlim(0, 1)\n",
    "plt.tight_layout()\n",
    "plt.show()"
   ]
  },
  {
   "cell_type": "code",
   "execution_count": 23,
   "id": "145c03eb",
   "metadata": {},
   "outputs": [
    {
     "data": {
      "image/png": "[encoded data removed]",
      "text/plain": [
       "<Figure size 800x600 with 1 Axes>"
      ]
     },
     "metadata": {},
     "output_type": "display_data"
    }
   ],
   "source": [
    "plt.figure(figsize=large_figsize)\n",
    "plt.scatter(significant_states['Total_Projects'], significant_states['Approval_Rate'], \n",
    "            alpha=0.6, s=70, color='purple')\n",
    "plt.title('Project Volume vs Approval Rate by State', fontsize=16, fontweight='bold')\n",
    "plt.xlabel('Total Projects')\n",
    "plt.ylabel('Approval Rate')\n",
    "plt.xscale('log')\n",
    "\n",
    "# Adding trend line\n",
    "log_projects = np.log(significant_states['Total_Projects'])\n",
    "z = np.polyfit(log_projects, significant_states['Approval_Rate'], 1)\n",
    "p = np.poly1d(z)\n",
    "sorted_projects = np.sort(significant_states['Total_Projects'])\n",
    "plt.plot(sorted_projects, p(np.log(sorted_projects)), \"r--\", alpha=0.8, label='Trend line')\n",
    "plt.legend()\n",
    "plt.tight_layout()\n",
    "plt.show()"
   ]
  },
  {
   "cell_type": "code",
   "execution_count": 24,
   "id": "5c677554",
   "metadata": {},
   "outputs": [
    {
     "data": {
      "image/png": "[encoded data removed]",
      "text/plain": [
       "<Figure size 800x600 with 1 Axes>"
      ]
     },
     "metadata": {},
     "output_type": "display_data"
    }
   ],
   "source": [
    "# 4. Top 15 States by Project Volume\n",
    "plt.figure(figsize=large_figsize)\n",
    "top_volume_states = significant_states.nlargest(15, 'Total_Projects')\n",
    "plt.bar(top_volume_states.index, top_volume_states['Total_Projects'], \n",
    "        color='lightblue', alpha=0.85, width=0.6)\n",
    "plt.title('Top 15 States by Project Volume', fontsize=16, fontweight='bold')\n",
    "plt.ylabel('Number of Projects')\n",
    "plt.xticks(rotation=45)\n",
    "for i, (projects, rate) in enumerate(zip(top_volume_states['Total_Projects'], \n",
    "                                         top_volume_states['Approval_Rate'])):\n",
    "    plt.text(i, projects + max(top_volume_states['Total_Projects']) * 0.01, \n",
    "             f'{rate:.2f}', ha='center', va='bottom', fontweight='bold', fontsize=10)\n",
    "plt.tight_layout()\n",
    "plt.show()"
   ]
  },
  {
   "cell_type": "code",
   "execution_count": 25,
   "id": "e3c64bf1",
   "metadata": {},
   "outputs": [
    {
     "name": "stdout",
     "output_type": "stream",
     "text": [
      "============================================================\n",
      "SCHOOL STATE vs APPROVAL ANALYSIS\n",
      "============================================================\n",
      "Total states: 51\n",
      "States with significant data: 37\n",
      "Overall approval rate: 84.86%\n",
      "\n",
      "Top 5 performing states:\n",
      "              Total_Projects  Approval_Rate\n",
      "school_state                               \n",
      "WA                      2334          0.876\n",
      "OH                      2467          0.875\n",
      "CT                      1663          0.869\n",
      "KY                      1304          0.863\n",
      "SC                      3936          0.860\n",
      "\n",
      "Top 5 states by volume:\n",
      "              Total_Projects  Approval_Rate\n",
      "school_state                               \n",
      "CA                     15388          0.858\n",
      "TX                      7396          0.813\n",
      "NY                      7318          0.860\n",
      "FL                      6185          0.832\n",
      "NC                      5091          0.855\n"
     ]
    }
   ],
   "source": [
    "print(\"=\"*60)\n",
    "print(\"SCHOOL STATE vs APPROVAL ANALYSIS\")\n",
    "print(\"=\"*60)\n",
    "print(f\"Total states: {len(state_stats)}\")\n",
    "print(f\"States with significant data: {len(significant_states)}\")\n",
    "print(f\"Overall approval rate: {df['project_is_approved'].mean():.2%}\")\n",
    "\n",
    "print(f\"\\nTop 5 performing states:\")\n",
    "print(significant_states[['Total_Projects', 'Approval_Rate']].head())\n",
    "\n",
    "print(f\"\\nTop 5 states by volume:\")\n",
    "print(significant_states.nlargest(5, 'Total_Projects')[['Total_Projects', 'Approval_Rate']])"
   ]
  }
 ],
 "metadata": {
  "kernelspec": {
   "display_name": "Python 3",
   "language": "python",
   "name": "python3"
  },
  "language_info": {
   "codemirror_mode": {
    "name": "ipython",
    "version": 3
   },
   "file_extension": ".py",
   "mimetype": "text/x-python",
   "name": "python",
   "nbconvert_exporter": "python",
   "pygments_lexer": "ipython3",
   "version": "3.13.0"
  }
 },
 "nbformat": 4,
 "nbformat_minor": 5
}
