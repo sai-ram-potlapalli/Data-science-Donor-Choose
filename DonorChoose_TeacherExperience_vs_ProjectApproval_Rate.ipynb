{
 "cells": [
  {
   "cell_type": "code",
   "execution_count": 30,
   "id": "7044b4d6",
   "metadata": {},
   "outputs": [],
   "source": [
    "import numpy as np\n",
    "import pandas as pd\n",
    "import matplotlib.pyplot as plt\n",
    "import seaborn as sns"
   ]
  },
  {
   "cell_type": "code",
   "execution_count": 31,
   "id": "1e15ac94",
   "metadata": {},
   "outputs": [],
   "source": [
    "df=pd.read_csv('train_data.csv')"
   ]
  },
  {
   "cell_type": "code",
   "execution_count": 32,
   "id": "860a49f5",
   "metadata": {},
   "outputs": [
    {
     "data": {
      "text/html": [
       "<div>\n",
       "<style scoped>\n",
       "    .dataframe tbody tr th:only-of-type {\n",
       "        vertical-align: middle;\n",
       "    }\n",
       "\n",
       "    .dataframe tbody tr th {\n",
       "        vertical-align: top;\n",
       "    }\n",
       "\n",
       "    .dataframe thead th {\n",
       "        text-align: right;\n",
       "    }\n",
       "</style>\n",
       "<table border=\"1\" class=\"dataframe\">\n",
       "  <thead>\n",
       "    <tr style=\"text-align: right;\">\n",
       "      <th></th>\n",
       "      <th>Unnamed: 0</th>\n",
       "      <th>id</th>\n",
       "      <th>teacher_id</th>\n",
       "      <th>teacher_prefix</th>\n",
       "      <th>school_state</th>\n",
       "      <th>project_submitted_datetime</th>\n",
       "      <th>project_grade_category</th>\n",
       "      <th>project_subject_categories</th>\n",
       "      <th>project_subject_subcategories</th>\n",
       "      <th>project_title</th>\n",
       "      <th>project_essay_1</th>\n",
       "      <th>project_essay_2</th>\n",
       "      <th>project_essay_3</th>\n",
       "      <th>project_essay_4</th>\n",
       "      <th>project_resource_summary</th>\n",
       "      <th>teacher_number_of_previously_posted_projects</th>\n",
       "      <th>project_is_approved</th>\n",
       "    </tr>\n",
       "  </thead>\n",
       "  <tbody>\n",
       "    <tr>\n",
       "      <th>0</th>\n",
       "      <td>160221</td>\n",
       "      <td>p253737</td>\n",
       "      <td>c90749f5d961ff158d4b4d1e7dc665fc</td>\n",
       "      <td>Mrs.</td>\n",
       "      <td>IN</td>\n",
       "      <td>2016-12-05 13:43:57</td>\n",
       "      <td>Grades PreK-2</td>\n",
       "      <td>Literacy &amp; Language</td>\n",
       "      <td>ESL, Literacy</td>\n",
       "      <td>Educational Support for English Learners at Home</td>\n",
       "      <td>My students are English learners that are work...</td>\n",
       "      <td>\\\"The limits of your language are the limits o...</td>\n",
       "      <td>NaN</td>\n",
       "      <td>NaN</td>\n",
       "      <td>My students need opportunities to practice beg...</td>\n",
       "      <td>0</td>\n",
       "      <td>0</td>\n",
       "    </tr>\n",
       "    <tr>\n",
       "      <th>1</th>\n",
       "      <td>140945</td>\n",
       "      <td>p258326</td>\n",
       "      <td>897464ce9ddc600bced1151f324dd63a</td>\n",
       "      <td>Mr.</td>\n",
       "      <td>FL</td>\n",
       "      <td>2016-10-25 09:22:10</td>\n",
       "      <td>Grades 6-8</td>\n",
       "      <td>History &amp; Civics, Health &amp; Sports</td>\n",
       "      <td>Civics &amp; Government, Team Sports</td>\n",
       "      <td>Wanted: Projector for Hungry Learners</td>\n",
       "      <td>Our students arrive to our school eager to lea...</td>\n",
       "      <td>The projector we need for our school is very c...</td>\n",
       "      <td>NaN</td>\n",
       "      <td>NaN</td>\n",
       "      <td>My students need a projector to help with view...</td>\n",
       "      <td>7</td>\n",
       "      <td>1</td>\n",
       "    </tr>\n",
       "    <tr>\n",
       "      <th>2</th>\n",
       "      <td>21895</td>\n",
       "      <td>p182444</td>\n",
       "      <td>3465aaf82da834c0582ebd0ef8040ca0</td>\n",
       "      <td>Ms.</td>\n",
       "      <td>AZ</td>\n",
       "      <td>2016-08-31 12:03:56</td>\n",
       "      <td>Grades 6-8</td>\n",
       "      <td>Health &amp; Sports</td>\n",
       "      <td>Health &amp; Wellness, Team Sports</td>\n",
       "      <td>Soccer Equipment for AWESOME Middle School Stu...</td>\n",
       "      <td>\\r\\n\\\"True champions aren't always the ones th...</td>\n",
       "      <td>The students on the campus come to school know...</td>\n",
       "      <td>NaN</td>\n",
       "      <td>NaN</td>\n",
       "      <td>My students need shine guards, athletic socks,...</td>\n",
       "      <td>1</td>\n",
       "      <td>0</td>\n",
       "    </tr>\n",
       "    <tr>\n",
       "      <th>3</th>\n",
       "      <td>45</td>\n",
       "      <td>p246581</td>\n",
       "      <td>f3cb9bffbba169bef1a77b243e620b60</td>\n",
       "      <td>Mrs.</td>\n",
       "      <td>KY</td>\n",
       "      <td>2016-10-06 21:16:17</td>\n",
       "      <td>Grades PreK-2</td>\n",
       "      <td>Literacy &amp; Language, Math &amp; Science</td>\n",
       "      <td>Literacy, Mathematics</td>\n",
       "      <td>Techie Kindergarteners</td>\n",
       "      <td>I work at a unique school filled with both ESL...</td>\n",
       "      <td>My students live in high poverty conditions wi...</td>\n",
       "      <td>NaN</td>\n",
       "      <td>NaN</td>\n",
       "      <td>My students need to engage in Reading and Math...</td>\n",
       "      <td>4</td>\n",
       "      <td>1</td>\n",
       "    </tr>\n",
       "    <tr>\n",
       "      <th>4</th>\n",
       "      <td>172407</td>\n",
       "      <td>p104768</td>\n",
       "      <td>be1f7507a41f8479dc06f047086a39ec</td>\n",
       "      <td>Mrs.</td>\n",
       "      <td>TX</td>\n",
       "      <td>2016-07-11 01:10:09</td>\n",
       "      <td>Grades PreK-2</td>\n",
       "      <td>Math &amp; Science</td>\n",
       "      <td>Mathematics</td>\n",
       "      <td>Interactive Math Tools</td>\n",
       "      <td>Our second grade classroom next year will be m...</td>\n",
       "      <td>For many students, math is a subject that does...</td>\n",
       "      <td>NaN</td>\n",
       "      <td>NaN</td>\n",
       "      <td>My students need hands on practice in mathemat...</td>\n",
       "      <td>1</td>\n",
       "      <td>1</td>\n",
       "    </tr>\n",
       "  </tbody>\n",
       "</table>\n",
       "</div>"
      ],
      "text/plain": [
       "   Unnamed: 0       id                        teacher_id teacher_prefix  \\\n",
       "0      160221  p253737  c90749f5d961ff158d4b4d1e7dc665fc           Mrs.   \n",
       "1      140945  p258326  897464ce9ddc600bced1151f324dd63a            Mr.   \n",
       "2       21895  p182444  3465aaf82da834c0582ebd0ef8040ca0            Ms.   \n",
       "3          45  p246581  f3cb9bffbba169bef1a77b243e620b60           Mrs.   \n",
       "4      172407  p104768  be1f7507a41f8479dc06f047086a39ec           Mrs.   \n",
       "\n",
       "  school_state project_submitted_datetime project_grade_category  \\\n",
       "0           IN        2016-12-05 13:43:57          Grades PreK-2   \n",
       "1           FL        2016-10-25 09:22:10             Grades 6-8   \n",
       "2           AZ        2016-08-31 12:03:56             Grades 6-8   \n",
       "3           KY        2016-10-06 21:16:17          Grades PreK-2   \n",
       "4           TX        2016-07-11 01:10:09          Grades PreK-2   \n",
       "\n",
       "            project_subject_categories     project_subject_subcategories  \\\n",
       "0                  Literacy & Language                     ESL, Literacy   \n",
       "1    History & Civics, Health & Sports  Civics & Government, Team Sports   \n",
       "2                      Health & Sports    Health & Wellness, Team Sports   \n",
       "3  Literacy & Language, Math & Science             Literacy, Mathematics   \n",
       "4                       Math & Science                       Mathematics   \n",
       "\n",
       "                                       project_title  \\\n",
       "0   Educational Support for English Learners at Home   \n",
       "1              Wanted: Projector for Hungry Learners   \n",
       "2  Soccer Equipment for AWESOME Middle School Stu...   \n",
       "3                             Techie Kindergarteners   \n",
       "4                             Interactive Math Tools   \n",
       "\n",
       "                                     project_essay_1  \\\n",
       "0  My students are English learners that are work...   \n",
       "1  Our students arrive to our school eager to lea...   \n",
       "2  \\r\\n\\\"True champions aren't always the ones th...   \n",
       "3  I work at a unique school filled with both ESL...   \n",
       "4  Our second grade classroom next year will be m...   \n",
       "\n",
       "                                     project_essay_2 project_essay_3  \\\n",
       "0  \\\"The limits of your language are the limits o...             NaN   \n",
       "1  The projector we need for our school is very c...             NaN   \n",
       "2  The students on the campus come to school know...             NaN   \n",
       "3  My students live in high poverty conditions wi...             NaN   \n",
       "4  For many students, math is a subject that does...             NaN   \n",
       "\n",
       "  project_essay_4                           project_resource_summary  \\\n",
       "0             NaN  My students need opportunities to practice beg...   \n",
       "1             NaN  My students need a projector to help with view...   \n",
       "2             NaN  My students need shine guards, athletic socks,...   \n",
       "3             NaN  My students need to engage in Reading and Math...   \n",
       "4             NaN  My students need hands on practice in mathemat...   \n",
       "\n",
       "   teacher_number_of_previously_posted_projects  project_is_approved  \n",
       "0                                             0                    0  \n",
       "1                                             7                    1  \n",
       "2                                             1                    0  \n",
       "3                                             4                    1  \n",
       "4                                             1                    1  "
      ]
     },
     "execution_count": 32,
     "metadata": {},
     "output_type": "execute_result"
    }
   ],
   "source": [
    "df.head()"
   ]
  },
  {
   "cell_type": "code",
   "execution_count": 33,
   "id": "ac1033d8",
   "metadata": {},
   "outputs": [
    {
     "name": "stdout",
     "output_type": "stream",
     "text": [
      "<class 'pandas.core.frame.DataFrame'>\n",
      "RangeIndex: 109248 entries, 0 to 109247\n",
      "Data columns (total 17 columns):\n",
      " #   Column                                        Non-Null Count   Dtype \n",
      "---  ------                                        --------------   ----- \n",
      " 0   Unnamed: 0                                    109248 non-null  int64 \n",
      " 1   id                                            109248 non-null  object\n",
      " 2   teacher_id                                    109248 non-null  object\n",
      " 3   teacher_prefix                                109245 non-null  object\n",
      " 4   school_state                                  109248 non-null  object\n",
      " 5   project_submitted_datetime                    109248 non-null  object\n",
      " 6   project_grade_category                        109248 non-null  object\n",
      " 7   project_subject_categories                    109248 non-null  object\n",
      " 8   project_subject_subcategories                 109248 non-null  object\n",
      " 9   project_title                                 109248 non-null  object\n",
      " 10  project_essay_1                               109248 non-null  object\n",
      " 11  project_essay_2                               109248 non-null  object\n",
      " 12  project_essay_3                               3758 non-null    object\n",
      " 13  project_essay_4                               3758 non-null    object\n",
      " 14  project_resource_summary                      109248 non-null  object\n",
      " 15  teacher_number_of_previously_posted_projects  109248 non-null  int64 \n",
      " 16  project_is_approved                           109248 non-null  int64 \n",
      "dtypes: int64(3), object(14)\n",
      "memory usage: 14.2+ MB\n"
     ]
    }
   ],
   "source": [
    "df.info(verbose=True)"
   ]
  },
  {
   "cell_type": "code",
   "execution_count": 34,
   "id": "cf54fa19",
   "metadata": {},
   "outputs": [
    {
     "data": {
      "text/html": [
       "<div>\n",
       "<style scoped>\n",
       "    .dataframe tbody tr th:only-of-type {\n",
       "        vertical-align: middle;\n",
       "    }\n",
       "\n",
       "    .dataframe tbody tr th {\n",
       "        vertical-align: top;\n",
       "    }\n",
       "\n",
       "    .dataframe thead th {\n",
       "        text-align: right;\n",
       "    }\n",
       "</style>\n",
       "<table border=\"1\" class=\"dataframe\">\n",
       "  <thead>\n",
       "    <tr style=\"text-align: right;\">\n",
       "      <th></th>\n",
       "      <th>Unnamed: 0</th>\n",
       "      <th>teacher_number_of_previously_posted_projects</th>\n",
       "      <th>project_is_approved</th>\n",
       "    </tr>\n",
       "  </thead>\n",
       "  <tbody>\n",
       "    <tr>\n",
       "      <th>count</th>\n",
       "      <td>109248.000000</td>\n",
       "      <td>109248.000000</td>\n",
       "      <td>109248.000000</td>\n",
       "    </tr>\n",
       "    <tr>\n",
       "      <th>mean</th>\n",
       "      <td>91183.786568</td>\n",
       "      <td>11.153165</td>\n",
       "      <td>0.848583</td>\n",
       "    </tr>\n",
       "    <tr>\n",
       "      <th>std</th>\n",
       "      <td>52548.095272</td>\n",
       "      <td>27.777154</td>\n",
       "      <td>0.358456</td>\n",
       "    </tr>\n",
       "    <tr>\n",
       "      <th>min</th>\n",
       "      <td>0.000000</td>\n",
       "      <td>0.000000</td>\n",
       "      <td>0.000000</td>\n",
       "    </tr>\n",
       "    <tr>\n",
       "      <th>25%</th>\n",
       "      <td>45743.500000</td>\n",
       "      <td>0.000000</td>\n",
       "      <td>1.000000</td>\n",
       "    </tr>\n",
       "    <tr>\n",
       "      <th>50%</th>\n",
       "      <td>91253.500000</td>\n",
       "      <td>2.000000</td>\n",
       "      <td>1.000000</td>\n",
       "    </tr>\n",
       "    <tr>\n",
       "      <th>75%</th>\n",
       "      <td>136712.500000</td>\n",
       "      <td>9.000000</td>\n",
       "      <td>1.000000</td>\n",
       "    </tr>\n",
       "    <tr>\n",
       "      <th>max</th>\n",
       "      <td>182079.000000</td>\n",
       "      <td>451.000000</td>\n",
       "      <td>1.000000</td>\n",
       "    </tr>\n",
       "  </tbody>\n",
       "</table>\n",
       "</div>"
      ],
      "text/plain": [
       "          Unnamed: 0  teacher_number_of_previously_posted_projects  \\\n",
       "count  109248.000000                                 109248.000000   \n",
       "mean    91183.786568                                     11.153165   \n",
       "std     52548.095272                                     27.777154   \n",
       "min         0.000000                                      0.000000   \n",
       "25%     45743.500000                                      0.000000   \n",
       "50%     91253.500000                                      2.000000   \n",
       "75%    136712.500000                                      9.000000   \n",
       "max    182079.000000                                    451.000000   \n",
       "\n",
       "       project_is_approved  \n",
       "count        109248.000000  \n",
       "mean              0.848583  \n",
       "std               0.358456  \n",
       "min               0.000000  \n",
       "25%               1.000000  \n",
       "50%               1.000000  \n",
       "75%               1.000000  \n",
       "max               1.000000  "
      ]
     },
     "execution_count": 34,
     "metadata": {},
     "output_type": "execute_result"
    }
   ],
   "source": [
    "df.describe()"
   ]
  },
  {
   "cell_type": "code",
   "execution_count": 35,
   "id": "399e9e62",
   "metadata": {},
   "outputs": [
    {
     "data": {
      "text/plain": [
       "Unnamed: 0                                      109248\n",
       "id                                              109248\n",
       "teacher_id                                       72168\n",
       "teacher_prefix                                       5\n",
       "school_state                                        51\n",
       "project_submitted_datetime                      108537\n",
       "project_grade_category                               4\n",
       "project_subject_categories                          51\n",
       "project_subject_subcategories                      401\n",
       "project_title                                   100851\n",
       "project_essay_1                                  94319\n",
       "project_essay_2                                 108832\n",
       "project_essay_3                                   3755\n",
       "project_essay_4                                   3750\n",
       "project_resource_summary                        108324\n",
       "teacher_number_of_previously_posted_projects       374\n",
       "project_is_approved                                  2\n",
       "dtype: int64"
      ]
     },
     "execution_count": 35,
     "metadata": {},
     "output_type": "execute_result"
    }
   ],
   "source": [
    "df.nunique()"
   ]
  },
  {
   "cell_type": "markdown",
   "id": "a52ecb01",
   "metadata": {},
   "source": [
    "### Teacher Experience vs. Project Approval Rate\n",
    "--> We investigate whether teacher experience impacts proposal approval rates."
   ]
  },
  {
   "cell_type": "code",
   "execution_count": 36,
   "id": "fb506052",
   "metadata": {},
   "outputs": [
    {
     "data": {
      "text/plain": [
       "teacher_number_of_previously_posted_projects    int64\n",
       "project_is_approved                             int64\n",
       "dtype: object"
      ]
     },
     "execution_count": 36,
     "metadata": {},
     "output_type": "execute_result"
    }
   ],
   "source": [
    "df[['teacher_number_of_previously_posted_projects','project_is_approved']].dtypes"
   ]
  },
  {
   "cell_type": "code",
   "execution_count": 37,
   "id": "81a18fce",
   "metadata": {},
   "outputs": [
    {
     "data": {
      "text/plain": [
       "teacher_number_of_previously_posted_projects    0\n",
       "project_is_approved                             0\n",
       "dtype: int64"
      ]
     },
     "execution_count": 37,
     "metadata": {},
     "output_type": "execute_result"
    }
   ],
   "source": [
    "df[['teacher_number_of_previously_posted_projects','project_is_approved']].isna().sum()"
   ]
  },
  {
   "cell_type": "code",
   "execution_count": 38,
   "id": "8a092ca8",
   "metadata": {},
   "outputs": [
    {
     "data": {
      "text/plain": [
       "project_is_approved\n",
       "1    92706\n",
       "0    16542\n",
       "Name: count, dtype: int64"
      ]
     },
     "execution_count": 38,
     "metadata": {},
     "output_type": "execute_result"
    }
   ],
   "source": [
    "df['project_is_approved'].value_counts()"
   ]
  },
  {
   "cell_type": "code",
   "execution_count": 39,
   "id": "b3374a01",
   "metadata": {},
   "outputs": [],
   "source": [
    "conditions = [\n",
    "    (df['teacher_number_of_previously_posted_projects'] == 0),\n",
    "    (df['teacher_number_of_previously_posted_projects'] >= 1) & (df['teacher_number_of_previously_posted_projects'] <= 5),\n",
    "    (df['teacher_number_of_previously_posted_projects'] >= 6) & (df['teacher_number_of_previously_posted_projects'] <= 20),\n",
    "    (df['teacher_number_of_previously_posted_projects'] > 20)\n",
    "]\n",
    "\n",
    "choices = ['New', 'Moderate', 'Experienced', 'Veteran']\n",
    "\n",
    "df['teacher_experience'] = np.select(conditions, choices, default='Not Applicable')\n"
   ]
  },
  {
   "cell_type": "code",
   "execution_count": 40,
   "id": "8a796b7e",
   "metadata": {},
   "outputs": [
    {
     "data": {
      "text/plain": [
       "teacher_experience\n",
       "Moderate       42955\n",
       "New            30014\n",
       "Experienced    21726\n",
       "Veteran        14553\n",
       "Name: count, dtype: int64"
      ]
     },
     "execution_count": 40,
     "metadata": {},
     "output_type": "execute_result"
    }
   ],
   "source": [
    "#Total Number of Proposals in Each Experience Group\n",
    "df['teacher_experience'].value_counts()"
   ]
  },
  {
   "cell_type": "code",
   "execution_count": 41,
   "id": "2c19da18",
   "metadata": {},
   "outputs": [
    {
     "data": {
      "text/plain": [
       "teacher_experience\n",
       "Experienced    18812\n",
       "Moderate       36019\n",
       "New            24652\n",
       "Veteran        13223\n",
       "dtype: int64"
      ]
     },
     "execution_count": 41,
     "metadata": {},
     "output_type": "execute_result"
    }
   ],
   "source": [
    "#Total Number of Approved Proposals in Each Group\n",
    "df[df['project_is_approved']==1].groupby('teacher_experience').size()"
   ]
  },
  {
   "cell_type": "code",
   "execution_count": 42,
   "id": "0ee4cbd2",
   "metadata": {},
   "outputs": [
    {
     "data": {
      "text/plain": [
       "<Axes: xlabel='teacher_experience', ylabel='count'>"
      ]
     },
     "execution_count": 42,
     "metadata": {},
     "output_type": "execute_result"
    },
    {
     "data": {
      "image/png": "[encoded data removed]",
      "text/plain": [
       "<Figure size 640x480 with 1 Axes>"
      ]
     },
     "metadata": {},
     "output_type": "display_data"
    }
   ],
   "source": [
    "sns.countplot(x='teacher_experience', hue='project_is_approved', data=df)"
   ]
  },
  {
   "cell_type": "code",
   "execution_count": 43,
   "id": "4a9fd083",
   "metadata": {},
   "outputs": [
    {
     "data": {
      "text/html": [
       "<div>\n",
       "<style scoped>\n",
       "    .dataframe tbody tr th:only-of-type {\n",
       "        vertical-align: middle;\n",
       "    }\n",
       "\n",
       "    .dataframe tbody tr th {\n",
       "        vertical-align: top;\n",
       "    }\n",
       "\n",
       "    .dataframe thead th {\n",
       "        text-align: right;\n",
       "    }\n",
       "</style>\n",
       "<table border=\"1\" class=\"dataframe\">\n",
       "  <thead>\n",
       "    <tr style=\"text-align: right;\">\n",
       "      <th></th>\n",
       "      <th>total_projects</th>\n",
       "      <th>approved_projects</th>\n",
       "      <th>approval_rate</th>\n",
       "    </tr>\n",
       "    <tr>\n",
       "      <th>teacher_experience</th>\n",
       "      <th></th>\n",
       "      <th></th>\n",
       "      <th></th>\n",
       "    </tr>\n",
       "  </thead>\n",
       "  <tbody>\n",
       "    <tr>\n",
       "      <th>Experienced</th>\n",
       "      <td>21726</td>\n",
       "      <td>18812</td>\n",
       "      <td>86.587499</td>\n",
       "    </tr>\n",
       "    <tr>\n",
       "      <th>Moderate</th>\n",
       "      <td>42955</td>\n",
       "      <td>36019</td>\n",
       "      <td>83.852869</td>\n",
       "    </tr>\n",
       "    <tr>\n",
       "      <th>New</th>\n",
       "      <td>30014</td>\n",
       "      <td>24652</td>\n",
       "      <td>82.135004</td>\n",
       "    </tr>\n",
       "    <tr>\n",
       "      <th>Veteran</th>\n",
       "      <td>14553</td>\n",
       "      <td>13223</td>\n",
       "      <td>90.860991</td>\n",
       "    </tr>\n",
       "  </tbody>\n",
       "</table>\n",
       "</div>"
      ],
      "text/plain": [
       "                    total_projects  approved_projects  approval_rate\n",
       "teacher_experience                                                  \n",
       "Experienced                  21726              18812      86.587499\n",
       "Moderate                     42955              36019      83.852869\n",
       "New                          30014              24652      82.135004\n",
       "Veteran                      14553              13223      90.860991"
      ]
     },
     "execution_count": 43,
     "metadata": {},
     "output_type": "execute_result"
    }
   ],
   "source": [
    "#approval Rate by Experience Group\n",
    "\n",
    "approval_counts = df[df['project_is_approved'] == 1].groupby('teacher_experience').size()\n",
    "total_counts = df.groupby('teacher_experience').size()\n",
    "approval_rate = (approval_counts / total_counts)*100.00\n",
    "\n",
    "summary_df = pd.DataFrame({\n",
    "    'total_projects': total_counts,\n",
    "    'approved_projects': approval_counts,\n",
    "    'approval_rate': approval_rate\n",
    "})\n",
    "\n",
    "summary_df\n"
   ]
  },
  {
   "cell_type": "code",
   "execution_count": 44,
   "id": "06ad44eb",
   "metadata": {},
   "outputs": [
    {
     "data": {
      "image/png": "[encoded data removed]",
      "text/plain": [
       "<Figure size 800x200 with 1 Axes>"
      ]
     },
     "metadata": {},
     "output_type": "display_data"
    }
   ],
   "source": [
    "plt.figure(figsize=(8, 2))\n",
    "sns.heatmap(summary_df[['approval_rate']].T, annot=True, cmap=\"YlGnBu\", cbar=False)\n",
    "plt.title(\"Approval Rate by Teacher Experience\")\n",
    "plt.xlabel(\"Teacher Experience Level\")\n",
    "plt.yticks([]) \n",
    "plt.tight_layout()\n",
    "plt.show()\n"
   ]
  },
  {
   "cell_type": "markdown",
   "id": "1a1fb2d1",
   "metadata": {},
   "source": [
    "1. Approval rates steadily increase as teachers move from New → Moderate → Experienced → Veteran.\n",
    "2. The most experienced group (\"Veteran\") has an 8.7 percentage point higher approval rate than \"New\" teachers.\n",
    "3. The “New” group has the lowest approval rate among all experience levels."
   ]
  },
  {
   "cell_type": "code",
   "execution_count": 45,
   "id": "512e0e3c",
   "metadata": {},
   "outputs": [
    {
     "data": {
      "image/png": "[encoded data removed]",
      "text/plain": [
       "<Figure size 640x480 with 1 Axes>"
      ]
     },
     "metadata": {},
     "output_type": "display_data"
    }
   ],
   "source": [
    "#The approval rate across the teacher_experience\n",
    "summary_df['approval_rate'].plot(kind='bar', title='Approval Rate by Teacher Experience', xlabel='Experience Level', ylabel='Approval Rate in %');"
   ]
  },
  {
   "cell_type": "code",
   "execution_count": 46,
   "id": "86e03e0f",
   "metadata": {},
   "outputs": [
    {
     "data": {
      "text/plain": [
       "Text(0, 0.5, '# Previously Posted Projects')"
      ]
     },
     "execution_count": 46,
     "metadata": {},
     "output_type": "execute_result"
    },
    {
     "data": {
      "image/png": "[encoded data removed]",
      "text/plain": [
       "<Figure size 640x480 with 1 Axes>"
      ]
     },
     "metadata": {},
     "output_type": "display_data"
    }
   ],
   "source": [
    "#Distribution of number of previously posted projects between approved and rejected proposals:\n",
    "import seaborn as sns\n",
    "import matplotlib.pyplot as plt\n",
    "\n",
    "sns.boxplot(x='project_is_approved', y='teacher_number_of_previously_posted_projects', data=df)\n",
    "plt.title('Distribution of Teacher Experience by Approval Status')\n",
    "plt.xlabel('Approval Status (0 = Rejected, 1 = Approved)')\n",
    "plt.ylabel('# Previously Posted Projects')\n"
   ]
  },
  {
   "cell_type": "code",
   "execution_count": 47,
   "id": "b156efb8",
   "metadata": {},
   "outputs": [
    {
     "data": {
      "image/png": "[encoded data removed]",
      "text/plain": [
       "<Figure size 640x480 with 1 Axes>"
      ]
     },
     "metadata": {},
     "output_type": "display_data"
    }
   ],
   "source": [
    "#Trend of Approval Rate by Exact Experience Count, Instead of bins.\n",
    "experience_level = df.groupby('teacher_number_of_previously_posted_projects')['project_is_approved'].mean()\n",
    "experience_level.plot(kind='line', title='Approval Rate vs. Teacher Experience');"
   ]
  },
  {
   "cell_type": "markdown",
   "id": "0c3bf6ad",
   "metadata": {},
   "source": [
    "1. Approval rate increases steadily from 0 to ~30–50 previously posted projects.\n",
    "2. From ~50 onward, the approval rate flattens out, generally hovering near 1.0.\n",
    "3. Beyond ~150–200 projects, the line becomes noisy and erratic with sharp drops—even hitting close to 0.0 at certain points."
   ]
  },
  {
   "cell_type": "markdown",
   "id": "0f0c06d2",
   "metadata": {},
   "source": [
    "### Summary of Findings\n",
    "Experienced teachers (6–20 prior projects) have a notably higher approval rate (86.6%) compared to new teachers (82.1%). This trend peaks with Veteran teachers (90.9%), suggesting that proposal quality improves with experience. However, a line plot of individual experience shows a plateau effect after ~50 proposals, indicating a point of diminishing returns.\n"
   ]
  },
  {
   "cell_type": "markdown",
   "id": "5f6594dc",
   "metadata": {},
   "source": [
    "## Hypothesis Testing: Teachers with prior experience have significantly higher approval rates than first-time teachers."
   ]
  },
  {
   "cell_type": "markdown",
   "id": "6a49ac1f",
   "metadata": {},
   "source": [
    "Group A (New Teachers): teacher_number_of_previously_posted_projects == 0 <br>\n",
    "Group B (Experienced Teachers): teacher_number_of_previously_posted_projects > 0"
   ]
  },
  {
   "cell_type": "code",
   "execution_count": 57,
   "id": "e203f73f",
   "metadata": {},
   "outputs": [],
   "source": [
    "Group_A=df[df['teacher_number_of_previously_posted_projects']==0]['project_is_approved']\n",
    "Group_B=df[df['teacher_number_of_previously_posted_projects']>0]['project_is_approved']"
   ]
  },
  {
   "cell_type": "markdown",
   "id": "eacfc725",
   "metadata": {},
   "source": [
    "μA : mean approval rate of new teachers <br>\n",
    "μB  : mean approval rate of experienced teachers <br>\n",
    "Null Hypothesis H0: (μA=μB)(No difference in approval rates) <br>\n",
    "Alternative Hypothesis H1: (μA<μB) (Experienced teachers have higher approval rates) <br>\n",
    "\n",
    "This is a one-tailed, independent two-sample t-test."
   ]
  },
  {
   "cell_type": "code",
   "execution_count": 58,
   "id": "c6955a20",
   "metadata": {},
   "outputs": [],
   "source": [
    "from scipy.stats import ttest_ind\n",
    "\n",
    "t_stat, p_value = ttest_ind(Group_A, Group_B, equal_var=False, alternative='less')\n"
   ]
  },
  {
   "cell_type": "code",
   "execution_count": 59,
   "id": "5edcb971",
   "metadata": {},
   "outputs": [
    {
     "name": "stdout",
     "output_type": "stream",
     "text": [
      "T-statistic: -14.821017590699288\n",
      "P-value: 6.833290982091162e-50\n"
     ]
    }
   ],
   "source": [
    "print(\"T-statistic:\", t_stat)\n",
    "print(\"P-value:\", p_value)"
   ]
  },
  {
   "cell_type": "markdown",
   "id": "6a5ecefe",
   "metadata": {},
   "source": [
    "### Hypothesis Test: Does Experience Improve Approval Rates?\n",
    "\n",
    "We conducted a one-tailed t-test to compare approval rates between:\n",
    "- **New teachers** (no prior submissions)\n",
    "- **Experienced teachers** (at least one prior submission)\n",
    "\n",
    "**Results**:\n",
    "- T-statistic = -14.82\n",
    "- P-value = 6.83 × 10⁻⁵⁰\n",
    "\n",
    "With a p-value far below 0.05, we **reject the null hypothesis**.\n",
    "\n",
    "**Conclusion**: Teachers with prior project experience have significantly higher approval rates.\n"
   ]
  },
  {
   "cell_type": "code",
   "execution_count": null,
   "id": "ea848037",
   "metadata": {},
   "outputs": [],
   "source": []
  }
 ],
 "metadata": {
  "kernelspec": {
   "display_name": "Python 3",
   "language": "python",
   "name": "python3"
  },
  "language_info": {
   "codemirror_mode": {
    "name": "ipython",
    "version": 3
   },
   "file_extension": ".py",
   "mimetype": "text/x-python",
   "name": "python",
   "nbconvert_exporter": "python",
   "pygments_lexer": "ipython3",
   "version": "3.13.0"
  }
 },
 "nbformat": 4,
 "nbformat_minor": 5
}
